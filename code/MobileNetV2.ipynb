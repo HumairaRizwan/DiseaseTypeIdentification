{
  "cells": [
    {
      "cell_type": "code",
      "execution_count": null,
      "metadata": {
        "id": "HzSZ9LJNxMpA"
      },
      "outputs": [],
      "source": [
        "# Importing Libraries\n",
        "import numpy as np\n",
        "from tensorflow.keras.applications import MobileNetV2\n",
        "from tensorflow.keras.layers import AveragePooling2D,GlobalAveragePooling2D\n",
        "from tensorflow.keras.layers import Dropout\n",
        "from tensorflow.keras.layers import Flatten\n",
        "from tensorflow.keras.layers import Dense\n",
        "from tensorflow.keras.layers import Input\n",
        "from tensorflow.keras.models import Model\n",
        "from sklearn.model_selection import train_test_split\n",
        "from keras.callbacks import ModelCheckpoint\n",
        "from matplotlib import pyplot as plt"
      ]
    },
    {
      "cell_type": "code",
      "execution_count": null,
      "metadata": {
        "id": "0evgCGcQxMpC"
      },
      "outputs": [],
      "source": [
        "# Load preprocessed numpy arrays for data and target\n",
        "data=np.load('/content/drive/MyDrive/Colab Notebooks/rp/data-preprocessed-disease.npy')\n",
        "target=np.load('/content/drive/MyDrive/Colab Notebooks/rp/target-preprocessed-disease.npy')"
      ]
    },
    {
      "cell_type": "code",
      "execution_count": null,
      "metadata": {
        "colab": {
          "base_uri": "https://localhost:8080/"
        },
        "id": "tQ6uOVCnvTSf",
        "outputId": "fcf6f539-0393-476d-e095-f164dcd98647"
      },
      "outputs": [
        {
          "data": {
            "text/plain": [
              "(1083, 224, 224, 3)"
            ]
          },
          "execution_count": 6,
          "metadata": {},
          "output_type": "execute_result"
        }
      ],
      "source": [
        "data.shape"
      ]
    },
    {
      "cell_type": "code",
      "execution_count": null,
      "metadata": {
        "colab": {
          "base_uri": "https://localhost:8080/"
        },
        "id": "X54juerREjcB",
        "outputId": "6369a878-91bf-4fbd-b1a5-8b2ae5c8d1e9"
      },
      "outputs": [
        {
          "name": "stdout",
          "output_type": "stream",
          "text": [
            "Mounted at /content/drive\n"
          ]
        }
      ],
      "source": [
        "from google.colab import drive\n",
        "drive.mount('/content/drive')"
      ]
    },
    {
      "cell_type": "code",
      "execution_count": null,
      "metadata": {
        "colab": {
          "base_uri": "https://localhost:8080/"
        },
        "id": "C6gAOJJgxMpD",
        "outputId": "3e66e5ac-2f60-40f6-ebfc-5ad12cf69cee"
      },
      "outputs": [
        {
          "name": "stderr",
          "output_type": "stream",
          "text": [
            "WARNING:tensorflow:`input_shape` is undefined or non-square, or `rows` is not in [96, 128, 160, 192, 224]. Weights for input shape (224, 224) will be loaded as the default.\n"
          ]
        },
        {
          "name": "stdout",
          "output_type": "stream",
          "text": [
            "Downloading data from https://storage.googleapis.com/tensorflow/keras-applications/mobilenet_v2/mobilenet_v2_weights_tf_dim_ordering_tf_kernels_1.0_224_no_top.h5\n",
            "9406464/9406464 [==============================] - 1s 0us/step\n",
            "Model: \"model\"\n",
            "__________________________________________________________________________________________________\n",
            " Layer (type)                   Output Shape         Param #     Connected to                     \n",
            "==================================================================================================\n",
            " input_1 (InputLayer)           [(None, 224, 224, 3  0           []                               \n",
            "                                )]                                                                \n",
            "                                                                                                  \n",
            " Conv1 (Conv2D)                 (None, 112, 112, 32  864         ['input_1[0][0]']                \n",
            "                                )                                                                 \n",
            "                                                                                                  \n",
            " bn_Conv1 (BatchNormalization)  (None, 112, 112, 32  128         ['Conv1[0][0]']                  \n",
            "                                )                                                                 \n",
            "                                                                                                  \n",
            " Conv1_relu (ReLU)              (None, 112, 112, 32  0           ['bn_Conv1[0][0]']               \n",
            "                                )                                                                 \n",
            "                                                                                                  \n",
            " expanded_conv_depthwise (Depth  (None, 112, 112, 32  288        ['Conv1_relu[0][0]']             \n",
            " wiseConv2D)                    )                                                                 \n",
            "                                                                                                  \n",
            " expanded_conv_depthwise_BN (Ba  (None, 112, 112, 32  128        ['expanded_conv_depthwise[0][0]']\n",
            " tchNormalization)              )                                                                 \n",
            "                                                                                                  \n",
            " expanded_conv_depthwise_relu (  (None, 112, 112, 32  0          ['expanded_conv_depthwise_BN[0][0\n",
            " ReLU)                          )                                ]']                              \n",
            "                                                                                                  \n",
            " expanded_conv_project (Conv2D)  (None, 112, 112, 16  512        ['expanded_conv_depthwise_relu[0]\n",
            "                                )                                [0]']                            \n",
            "                                                                                                  \n",
            " expanded_conv_project_BN (Batc  (None, 112, 112, 16  64         ['expanded_conv_project[0][0]']  \n",
            " hNormalization)                )                                                                 \n",
            "                                                                                                  \n",
            " block_1_expand (Conv2D)        (None, 112, 112, 96  1536        ['expanded_conv_project_BN[0][0]'\n",
            "                                )                                ]                                \n",
            "                                                                                                  \n",
            " block_1_expand_BN (BatchNormal  (None, 112, 112, 96  384        ['block_1_expand[0][0]']         \n",
            " ization)                       )                                                                 \n",
            "                                                                                                  \n",
            " block_1_expand_relu (ReLU)     (None, 112, 112, 96  0           ['block_1_expand_BN[0][0]']      \n",
            "                                )                                                                 \n",
            "                                                                                                  \n",
            " block_1_pad (ZeroPadding2D)    (None, 113, 113, 96  0           ['block_1_expand_relu[0][0]']    \n",
            "                                )                                                                 \n",
            "                                                                                                  \n",
            " block_1_depthwise (DepthwiseCo  (None, 56, 56, 96)  864         ['block_1_pad[0][0]']            \n",
            " nv2D)                                                                                            \n",
            "                                                                                                  \n",
            " block_1_depthwise_BN (BatchNor  (None, 56, 56, 96)  384         ['block_1_depthwise[0][0]']      \n",
            " malization)                                                                                      \n",
            "                                                                                                  \n",
            " block_1_depthwise_relu (ReLU)  (None, 56, 56, 96)   0           ['block_1_depthwise_BN[0][0]']   \n",
            "                                                                                                  \n",
            " block_1_project (Conv2D)       (None, 56, 56, 24)   2304        ['block_1_depthwise_relu[0][0]'] \n",
            "                                                                                                  \n",
            " block_1_project_BN (BatchNorma  (None, 56, 56, 24)  96          ['block_1_project[0][0]']        \n",
            " lization)                                                                                        \n",
            "                                                                                                  \n",
            " block_2_expand (Conv2D)        (None, 56, 56, 144)  3456        ['block_1_project_BN[0][0]']     \n",
            "                                                                                                  \n",
            " block_2_expand_BN (BatchNormal  (None, 56, 56, 144)  576        ['block_2_expand[0][0]']         \n",
            " ization)                                                                                         \n",
            "                                                                                                  \n",
            " block_2_expand_relu (ReLU)     (None, 56, 56, 144)  0           ['block_2_expand_BN[0][0]']      \n",
            "                                                                                                  \n",
            " block_2_depthwise (DepthwiseCo  (None, 56, 56, 144)  1296       ['block_2_expand_relu[0][0]']    \n",
            " nv2D)                                                                                            \n",
            "                                                                                                  \n",
            " block_2_depthwise_BN (BatchNor  (None, 56, 56, 144)  576        ['block_2_depthwise[0][0]']      \n",
            " malization)                                                                                      \n",
            "                                                                                                  \n",
            " block_2_depthwise_relu (ReLU)  (None, 56, 56, 144)  0           ['block_2_depthwise_BN[0][0]']   \n",
            "                                                                                                  \n",
            " block_2_project (Conv2D)       (None, 56, 56, 24)   3456        ['block_2_depthwise_relu[0][0]'] \n",
            "                                                                                                  \n",
            " block_2_project_BN (BatchNorma  (None, 56, 56, 24)  96          ['block_2_project[0][0]']        \n",
            " lization)                                                                                        \n",
            "                                                                                                  \n",
            " block_2_add (Add)              (None, 56, 56, 24)   0           ['block_1_project_BN[0][0]',     \n",
            "                                                                  'block_2_project_BN[0][0]']     \n",
            "                                                                                                  \n",
            " block_3_expand (Conv2D)        (None, 56, 56, 144)  3456        ['block_2_add[0][0]']            \n",
            "                                                                                                  \n",
            " block_3_expand_BN (BatchNormal  (None, 56, 56, 144)  576        ['block_3_expand[0][0]']         \n",
            " ization)                                                                                         \n",
            "                                                                                                  \n",
            " block_3_expand_relu (ReLU)     (None, 56, 56, 144)  0           ['block_3_expand_BN[0][0]']      \n",
            "                                                                                                  \n",
            " block_3_pad (ZeroPadding2D)    (None, 57, 57, 144)  0           ['block_3_expand_relu[0][0]']    \n",
            "                                                                                                  \n",
            " block_3_depthwise (DepthwiseCo  (None, 28, 28, 144)  1296       ['block_3_pad[0][0]']            \n",
            " nv2D)                                                                                            \n",
            "                                                                                                  \n",
            " block_3_depthwise_BN (BatchNor  (None, 28, 28, 144)  576        ['block_3_depthwise[0][0]']      \n",
            " malization)                                                                                      \n",
            "                                                                                                  \n",
            " block_3_depthwise_relu (ReLU)  (None, 28, 28, 144)  0           ['block_3_depthwise_BN[0][0]']   \n",
            "                                                                                                  \n",
            " block_3_project (Conv2D)       (None, 28, 28, 32)   4608        ['block_3_depthwise_relu[0][0]'] \n",
            "                                                                                                  \n",
            " block_3_project_BN (BatchNorma  (None, 28, 28, 32)  128         ['block_3_project[0][0]']        \n",
            " lization)                                                                                        \n",
            "                                                                                                  \n",
            " block_4_expand (Conv2D)        (None, 28, 28, 192)  6144        ['block_3_project_BN[0][0]']     \n",
            "                                                                                                  \n",
            " block_4_expand_BN (BatchNormal  (None, 28, 28, 192)  768        ['block_4_expand[0][0]']         \n",
            " ization)                                                                                         \n",
            "                                                                                                  \n",
            " block_4_expand_relu (ReLU)     (None, 28, 28, 192)  0           ['block_4_expand_BN[0][0]']      \n",
            "                                                                                                  \n",
            " block_4_depthwise (DepthwiseCo  (None, 28, 28, 192)  1728       ['block_4_expand_relu[0][0]']    \n",
            " nv2D)                                                                                            \n",
            "                                                                                                  \n",
            " block_4_depthwise_BN (BatchNor  (None, 28, 28, 192)  768        ['block_4_depthwise[0][0]']      \n",
            " malization)                                                                                      \n",
            "                                                                                                  \n",
            " block_4_depthwise_relu (ReLU)  (None, 28, 28, 192)  0           ['block_4_depthwise_BN[0][0]']   \n",
            "                                                                                                  \n",
            " block_4_project (Conv2D)       (None, 28, 28, 32)   6144        ['block_4_depthwise_relu[0][0]'] \n",
            "                                                                                                  \n",
            " block_4_project_BN (BatchNorma  (None, 28, 28, 32)  128         ['block_4_project[0][0]']        \n",
            " lization)                                                                                        \n",
            "                                                                                                  \n",
            " block_4_add (Add)              (None, 28, 28, 32)   0           ['block_3_project_BN[0][0]',     \n",
            "                                                                  'block_4_project_BN[0][0]']     \n",
            "                                                                                                  \n",
            " block_5_expand (Conv2D)        (None, 28, 28, 192)  6144        ['block_4_add[0][0]']            \n",
            "                                                                                                  \n",
            " block_5_expand_BN (BatchNormal  (None, 28, 28, 192)  768        ['block_5_expand[0][0]']         \n",
            " ization)                                                                                         \n",
            "                                                                                                  \n",
            " block_5_expand_relu (ReLU)     (None, 28, 28, 192)  0           ['block_5_expand_BN[0][0]']      \n",
            "                                                                                                  \n",
            " block_5_depthwise (DepthwiseCo  (None, 28, 28, 192)  1728       ['block_5_expand_relu[0][0]']    \n",
            " nv2D)                                                                                            \n",
            "                                                                                                  \n",
            " block_5_depthwise_BN (BatchNor  (None, 28, 28, 192)  768        ['block_5_depthwise[0][0]']      \n",
            " malization)                                                                                      \n",
            "                                                                                                  \n",
            " block_5_depthwise_relu (ReLU)  (None, 28, 28, 192)  0           ['block_5_depthwise_BN[0][0]']   \n",
            "                                                                                                  \n",
            " block_5_project (Conv2D)       (None, 28, 28, 32)   6144        ['block_5_depthwise_relu[0][0]'] \n",
            "                                                                                                  \n",
            " block_5_project_BN (BatchNorma  (None, 28, 28, 32)  128         ['block_5_project[0][0]']        \n",
            " lization)                                                                                        \n",
            "                                                                                                  \n",
            " block_5_add (Add)              (None, 28, 28, 32)   0           ['block_4_add[0][0]',            \n",
            "                                                                  'block_5_project_BN[0][0]']     \n",
            "                                                                                                  \n",
            " block_6_expand (Conv2D)        (None, 28, 28, 192)  6144        ['block_5_add[0][0]']            \n",
            "                                                                                                  \n",
            " block_6_expand_BN (BatchNormal  (None, 28, 28, 192)  768        ['block_6_expand[0][0]']         \n",
            " ization)                                                                                         \n",
            "                                                                                                  \n",
            " block_6_expand_relu (ReLU)     (None, 28, 28, 192)  0           ['block_6_expand_BN[0][0]']      \n",
            "                                                                                                  \n",
            " block_6_pad (ZeroPadding2D)    (None, 29, 29, 192)  0           ['block_6_expand_relu[0][0]']    \n",
            "                                                                                                  \n",
            " block_6_depthwise (DepthwiseCo  (None, 14, 14, 192)  1728       ['block_6_pad[0][0]']            \n",
            " nv2D)                                                                                            \n",
            "                                                                                                  \n",
            " block_6_depthwise_BN (BatchNor  (None, 14, 14, 192)  768        ['block_6_depthwise[0][0]']      \n",
            " malization)                                                                                      \n",
            "                                                                                                  \n",
            " block_6_depthwise_relu (ReLU)  (None, 14, 14, 192)  0           ['block_6_depthwise_BN[0][0]']   \n",
            "                                                                                                  \n",
            " block_6_project (Conv2D)       (None, 14, 14, 64)   12288       ['block_6_depthwise_relu[0][0]'] \n",
            "                                                                                                  \n",
            " block_6_project_BN (BatchNorma  (None, 14, 14, 64)  256         ['block_6_project[0][0]']        \n",
            " lization)                                                                                        \n",
            "                                                                                                  \n",
            " block_7_expand (Conv2D)        (None, 14, 14, 384)  24576       ['block_6_project_BN[0][0]']     \n",
            "                                                                                                  \n",
            " block_7_expand_BN (BatchNormal  (None, 14, 14, 384)  1536       ['block_7_expand[0][0]']         \n",
            " ization)                                                                                         \n",
            "                                                                                                  \n",
            " block_7_expand_relu (ReLU)     (None, 14, 14, 384)  0           ['block_7_expand_BN[0][0]']      \n",
            "                                                                                                  \n",
            " block_7_depthwise (DepthwiseCo  (None, 14, 14, 384)  3456       ['block_7_expand_relu[0][0]']    \n",
            " nv2D)                                                                                            \n",
            "                                                                                                  \n",
            " block_7_depthwise_BN (BatchNor  (None, 14, 14, 384)  1536       ['block_7_depthwise[0][0]']      \n",
            " malization)                                                                                      \n",
            "                                                                                                  \n",
            " block_7_depthwise_relu (ReLU)  (None, 14, 14, 384)  0           ['block_7_depthwise_BN[0][0]']   \n",
            "                                                                                                  \n",
            " block_7_project (Conv2D)       (None, 14, 14, 64)   24576       ['block_7_depthwise_relu[0][0]'] \n",
            "                                                                                                  \n",
            " block_7_project_BN (BatchNorma  (None, 14, 14, 64)  256         ['block_7_project[0][0]']        \n",
            " lization)                                                                                        \n",
            "                                                                                                  \n",
            " block_7_add (Add)              (None, 14, 14, 64)   0           ['block_6_project_BN[0][0]',     \n",
            "                                                                  'block_7_project_BN[0][0]']     \n",
            "                                                                                                  \n",
            " block_8_expand (Conv2D)        (None, 14, 14, 384)  24576       ['block_7_add[0][0]']            \n",
            "                                                                                                  \n",
            " block_8_expand_BN (BatchNormal  (None, 14, 14, 384)  1536       ['block_8_expand[0][0]']         \n",
            " ization)                                                                                         \n",
            "                                                                                                  \n",
            " block_8_expand_relu (ReLU)     (None, 14, 14, 384)  0           ['block_8_expand_BN[0][0]']      \n",
            "                                                                                                  \n",
            " block_8_depthwise (DepthwiseCo  (None, 14, 14, 384)  3456       ['block_8_expand_relu[0][0]']    \n",
            " nv2D)                                                                                            \n",
            "                                                                                                  \n",
            " block_8_depthwise_BN (BatchNor  (None, 14, 14, 384)  1536       ['block_8_depthwise[0][0]']      \n",
            " malization)                                                                                      \n",
            "                                                                                                  \n",
            " block_8_depthwise_relu (ReLU)  (None, 14, 14, 384)  0           ['block_8_depthwise_BN[0][0]']   \n",
            "                                                                                                  \n",
            " block_8_project (Conv2D)       (None, 14, 14, 64)   24576       ['block_8_depthwise_relu[0][0]'] \n",
            "                                                                                                  \n",
            " block_8_project_BN (BatchNorma  (None, 14, 14, 64)  256         ['block_8_project[0][0]']        \n",
            " lization)                                                                                        \n",
            "                                                                                                  \n",
            " block_8_add (Add)              (None, 14, 14, 64)   0           ['block_7_add[0][0]',            \n",
            "                                                                  'block_8_project_BN[0][0]']     \n",
            "                                                                                                  \n",
            " block_9_expand (Conv2D)        (None, 14, 14, 384)  24576       ['block_8_add[0][0]']            \n",
            "                                                                                                  \n",
            " block_9_expand_BN (BatchNormal  (None, 14, 14, 384)  1536       ['block_9_expand[0][0]']         \n",
            " ization)                                                                                         \n",
            "                                                                                                  \n",
            " block_9_expand_relu (ReLU)     (None, 14, 14, 384)  0           ['block_9_expand_BN[0][0]']      \n",
            "                                                                                                  \n",
            " block_9_depthwise (DepthwiseCo  (None, 14, 14, 384)  3456       ['block_9_expand_relu[0][0]']    \n",
            " nv2D)                                                                                            \n",
            "                                                                                                  \n",
            " block_9_depthwise_BN (BatchNor  (None, 14, 14, 384)  1536       ['block_9_depthwise[0][0]']      \n",
            " malization)                                                                                      \n",
            "                                                                                                  \n",
            " block_9_depthwise_relu (ReLU)  (None, 14, 14, 384)  0           ['block_9_depthwise_BN[0][0]']   \n",
            "                                                                                                  \n",
            " block_9_project (Conv2D)       (None, 14, 14, 64)   24576       ['block_9_depthwise_relu[0][0]'] \n",
            "                                                                                                  \n",
            " block_9_project_BN (BatchNorma  (None, 14, 14, 64)  256         ['block_9_project[0][0]']        \n",
            " lization)                                                                                        \n",
            "                                                                                                  \n",
            " block_9_add (Add)              (None, 14, 14, 64)   0           ['block_8_add[0][0]',            \n",
            "                                                                  'block_9_project_BN[0][0]']     \n",
            "                                                                                                  \n",
            " block_10_expand (Conv2D)       (None, 14, 14, 384)  24576       ['block_9_add[0][0]']            \n",
            "                                                                                                  \n",
            " block_10_expand_BN (BatchNorma  (None, 14, 14, 384)  1536       ['block_10_expand[0][0]']        \n",
            " lization)                                                                                        \n",
            "                                                                                                  \n",
            " block_10_expand_relu (ReLU)    (None, 14, 14, 384)  0           ['block_10_expand_BN[0][0]']     \n",
            "                                                                                                  \n",
            " block_10_depthwise (DepthwiseC  (None, 14, 14, 384)  3456       ['block_10_expand_relu[0][0]']   \n",
            " onv2D)                                                                                           \n",
            "                                                                                                  \n",
            " block_10_depthwise_BN (BatchNo  (None, 14, 14, 384)  1536       ['block_10_depthwise[0][0]']     \n",
            " rmalization)                                                                                     \n",
            "                                                                                                  \n",
            " block_10_depthwise_relu (ReLU)  (None, 14, 14, 384)  0          ['block_10_depthwise_BN[0][0]']  \n",
            "                                                                                                  \n",
            " block_10_project (Conv2D)      (None, 14, 14, 96)   36864       ['block_10_depthwise_relu[0][0]']\n",
            "                                                                                                  \n",
            " block_10_project_BN (BatchNorm  (None, 14, 14, 96)  384         ['block_10_project[0][0]']       \n",
            " alization)                                                                                       \n",
            "                                                                                                  \n",
            " block_11_expand (Conv2D)       (None, 14, 14, 576)  55296       ['block_10_project_BN[0][0]']    \n",
            "                                                                                                  \n",
            " block_11_expand_BN (BatchNorma  (None, 14, 14, 576)  2304       ['block_11_expand[0][0]']        \n",
            " lization)                                                                                        \n",
            "                                                                                                  \n",
            " block_11_expand_relu (ReLU)    (None, 14, 14, 576)  0           ['block_11_expand_BN[0][0]']     \n",
            "                                                                                                  \n",
            " block_11_depthwise (DepthwiseC  (None, 14, 14, 576)  5184       ['block_11_expand_relu[0][0]']   \n",
            " onv2D)                                                                                           \n",
            "                                                                                                  \n",
            " block_11_depthwise_BN (BatchNo  (None, 14, 14, 576)  2304       ['block_11_depthwise[0][0]']     \n",
            " rmalization)                                                                                     \n",
            "                                                                                                  \n",
            " block_11_depthwise_relu (ReLU)  (None, 14, 14, 576)  0          ['block_11_depthwise_BN[0][0]']  \n",
            "                                                                                                  \n",
            " block_11_project (Conv2D)      (None, 14, 14, 96)   55296       ['block_11_depthwise_relu[0][0]']\n",
            "                                                                                                  \n",
            " block_11_project_BN (BatchNorm  (None, 14, 14, 96)  384         ['block_11_project[0][0]']       \n",
            " alization)                                                                                       \n",
            "                                                                                                  \n",
            " block_11_add (Add)             (None, 14, 14, 96)   0           ['block_10_project_BN[0][0]',    \n",
            "                                                                  'block_11_project_BN[0][0]']    \n",
            "                                                                                                  \n",
            " block_12_expand (Conv2D)       (None, 14, 14, 576)  55296       ['block_11_add[0][0]']           \n",
            "                                                                                                  \n",
            " block_12_expand_BN (BatchNorma  (None, 14, 14, 576)  2304       ['block_12_expand[0][0]']        \n",
            " lization)                                                                                        \n",
            "                                                                                                  \n",
            " block_12_expand_relu (ReLU)    (None, 14, 14, 576)  0           ['block_12_expand_BN[0][0]']     \n",
            "                                                                                                  \n",
            " block_12_depthwise (DepthwiseC  (None, 14, 14, 576)  5184       ['block_12_expand_relu[0][0]']   \n",
            " onv2D)                                                                                           \n",
            "                                                                                                  \n",
            " block_12_depthwise_BN (BatchNo  (None, 14, 14, 576)  2304       ['block_12_depthwise[0][0]']     \n",
            " rmalization)                                                                                     \n",
            "                                                                                                  \n",
            " block_12_depthwise_relu (ReLU)  (None, 14, 14, 576)  0          ['block_12_depthwise_BN[0][0]']  \n",
            "                                                                                                  \n",
            " block_12_project (Conv2D)      (None, 14, 14, 96)   55296       ['block_12_depthwise_relu[0][0]']\n",
            "                                                                                                  \n",
            " block_12_project_BN (BatchNorm  (None, 14, 14, 96)  384         ['block_12_project[0][0]']       \n",
            " alization)                                                                                       \n",
            "                                                                                                  \n",
            " block_12_add (Add)             (None, 14, 14, 96)   0           ['block_11_add[0][0]',           \n",
            "                                                                  'block_12_project_BN[0][0]']    \n",
            "                                                                                                  \n",
            " block_13_expand (Conv2D)       (None, 14, 14, 576)  55296       ['block_12_add[0][0]']           \n",
            "                                                                                                  \n",
            " block_13_expand_BN (BatchNorma  (None, 14, 14, 576)  2304       ['block_13_expand[0][0]']        \n",
            " lization)                                                                                        \n",
            "                                                                                                  \n",
            " block_13_expand_relu (ReLU)    (None, 14, 14, 576)  0           ['block_13_expand_BN[0][0]']     \n",
            "                                                                                                  \n",
            " block_13_pad (ZeroPadding2D)   (None, 15, 15, 576)  0           ['block_13_expand_relu[0][0]']   \n",
            "                                                                                                  \n",
            " block_13_depthwise (DepthwiseC  (None, 7, 7, 576)   5184        ['block_13_pad[0][0]']           \n",
            " onv2D)                                                                                           \n",
            "                                                                                                  \n",
            " block_13_depthwise_BN (BatchNo  (None, 7, 7, 576)   2304        ['block_13_depthwise[0][0]']     \n",
            " rmalization)                                                                                     \n",
            "                                                                                                  \n",
            " block_13_depthwise_relu (ReLU)  (None, 7, 7, 576)   0           ['block_13_depthwise_BN[0][0]']  \n",
            "                                                                                                  \n",
            " block_13_project (Conv2D)      (None, 7, 7, 160)    92160       ['block_13_depthwise_relu[0][0]']\n",
            "                                                                                                  \n",
            " block_13_project_BN (BatchNorm  (None, 7, 7, 160)   640         ['block_13_project[0][0]']       \n",
            " alization)                                                                                       \n",
            "                                                                                                  \n",
            " block_14_expand (Conv2D)       (None, 7, 7, 960)    153600      ['block_13_project_BN[0][0]']    \n",
            "                                                                                                  \n",
            " block_14_expand_BN (BatchNorma  (None, 7, 7, 960)   3840        ['block_14_expand[0][0]']        \n",
            " lization)                                                                                        \n",
            "                                                                                                  \n",
            " block_14_expand_relu (ReLU)    (None, 7, 7, 960)    0           ['block_14_expand_BN[0][0]']     \n",
            "                                                                                                  \n",
            " block_14_depthwise (DepthwiseC  (None, 7, 7, 960)   8640        ['block_14_expand_relu[0][0]']   \n",
            " onv2D)                                                                                           \n",
            "                                                                                                  \n",
            " block_14_depthwise_BN (BatchNo  (None, 7, 7, 960)   3840        ['block_14_depthwise[0][0]']     \n",
            " rmalization)                                                                                     \n",
            "                                                                                                  \n",
            " block_14_depthwise_relu (ReLU)  (None, 7, 7, 960)   0           ['block_14_depthwise_BN[0][0]']  \n",
            "                                                                                                  \n",
            " block_14_project (Conv2D)      (None, 7, 7, 160)    153600      ['block_14_depthwise_relu[0][0]']\n",
            "                                                                                                  \n",
            " block_14_project_BN (BatchNorm  (None, 7, 7, 160)   640         ['block_14_project[0][0]']       \n",
            " alization)                                                                                       \n",
            "                                                                                                  \n",
            " block_14_add (Add)             (None, 7, 7, 160)    0           ['block_13_project_BN[0][0]',    \n",
            "                                                                  'block_14_project_BN[0][0]']    \n",
            "                                                                                                  \n",
            " block_15_expand (Conv2D)       (None, 7, 7, 960)    153600      ['block_14_add[0][0]']           \n",
            "                                                                                                  \n",
            " block_15_expand_BN (BatchNorma  (None, 7, 7, 960)   3840        ['block_15_expand[0][0]']        \n",
            " lization)                                                                                        \n",
            "                                                                                                  \n",
            " block_15_expand_relu (ReLU)    (None, 7, 7, 960)    0           ['block_15_expand_BN[0][0]']     \n",
            "                                                                                                  \n",
            " block_15_depthwise (DepthwiseC  (None, 7, 7, 960)   8640        ['block_15_expand_relu[0][0]']   \n",
            " onv2D)                                                                                           \n",
            "                                                                                                  \n",
            " block_15_depthwise_BN (BatchNo  (None, 7, 7, 960)   3840        ['block_15_depthwise[0][0]']     \n",
            " rmalization)                                                                                     \n",
            "                                                                                                  \n",
            " block_15_depthwise_relu (ReLU)  (None, 7, 7, 960)   0           ['block_15_depthwise_BN[0][0]']  \n",
            "                                                                                                  \n",
            " block_15_project (Conv2D)      (None, 7, 7, 160)    153600      ['block_15_depthwise_relu[0][0]']\n",
            "                                                                                                  \n",
            " block_15_project_BN (BatchNorm  (None, 7, 7, 160)   640         ['block_15_project[0][0]']       \n",
            " alization)                                                                                       \n",
            "                                                                                                  \n",
            " block_15_add (Add)             (None, 7, 7, 160)    0           ['block_14_add[0][0]',           \n",
            "                                                                  'block_15_project_BN[0][0]']    \n",
            "                                                                                                  \n",
            " block_16_expand (Conv2D)       (None, 7, 7, 960)    153600      ['block_15_add[0][0]']           \n",
            "                                                                                                  \n",
            " block_16_expand_BN (BatchNorma  (None, 7, 7, 960)   3840        ['block_16_expand[0][0]']        \n",
            " lization)                                                                                        \n",
            "                                                                                                  \n",
            " block_16_expand_relu (ReLU)    (None, 7, 7, 960)    0           ['block_16_expand_BN[0][0]']     \n",
            "                                                                                                  \n",
            " block_16_depthwise (DepthwiseC  (None, 7, 7, 960)   8640        ['block_16_expand_relu[0][0]']   \n",
            " onv2D)                                                                                           \n",
            "                                                                                                  \n",
            " block_16_depthwise_BN (BatchNo  (None, 7, 7, 960)   3840        ['block_16_depthwise[0][0]']     \n",
            " rmalization)                                                                                     \n",
            "                                                                                                  \n",
            " block_16_depthwise_relu (ReLU)  (None, 7, 7, 960)   0           ['block_16_depthwise_BN[0][0]']  \n",
            "                                                                                                  \n",
            " block_16_project (Conv2D)      (None, 7, 7, 320)    307200      ['block_16_depthwise_relu[0][0]']\n",
            "                                                                                                  \n",
            " block_16_project_BN (BatchNorm  (None, 7, 7, 320)   1280        ['block_16_project[0][0]']       \n",
            " alization)                                                                                       \n",
            "                                                                                                  \n",
            " Conv_1 (Conv2D)                (None, 7, 7, 1280)   409600      ['block_16_project_BN[0][0]']    \n",
            "                                                                                                  \n",
            " Conv_1_bn (BatchNormalization)  (None, 7, 7, 1280)  5120        ['Conv_1[0][0]']                 \n",
            "                                                                                                  \n",
            " out_relu (ReLU)                (None, 7, 7, 1280)   0           ['Conv_1_bn[0][0]']              \n",
            "                                                                                                  \n",
            " global_average_pooling2d (Glob  (None, 1280)        0           ['out_relu[0][0]']               \n",
            " alAveragePooling2D)                                                                              \n",
            "                                                                                                  \n",
            " flatten (Flatten)              (None, 1280)         0           ['global_average_pooling2d[0][0]'\n",
            "                                                                 ]                                \n",
            "                                                                                                  \n",
            " dense (Dense)                  (None, 128)          163968      ['flatten[0][0]']                \n",
            "                                                                                                  \n",
            " dropout (Dropout)              (None, 128)          0           ['dense[0][0]']                  \n",
            "                                                                                                  \n",
            " dense_1 (Dense)                (None, 6)            774         ['dropout[0][0]']                \n",
            "                                                                                                  \n",
            "==================================================================================================\n",
            "Total params: 2,422,726\n",
            "Trainable params: 164,742\n",
            "Non-trainable params: 2,257,984\n",
            "__________________________________________________________________________________________________\n"
          ]
        }
      ],
      "source": [
        "# Create the base MobileNetV2 model with pre-trained weights\n",
        "# include_top=False - load model without output layer\n",
        "from tensorflow.keras.optimizers import Adam\n",
        "baseModel = MobileNetV2(weights=\"imagenet\", include_top=False,input_tensor=Input(shape=(224,224, 3)))\n",
        "\n",
        "# Build the head of the model on top of the base model\n",
        "headModel = baseModel.output\n",
        "headModel = GlobalAveragePooling2D()(headModel)\n",
        "headModel = Flatten(name=\"flatten\")(headModel)\n",
        "headModel = Dense(128, activation=\"relu\")(headModel)\n",
        "headModel = Dropout(0.5)(headModel)\n",
        "headModel = Dense(6, activation=\"softmax\")(headModel)\n",
        "\n",
        "# Combine the base and head models\n",
        "model = Model(inputs=baseModel.input, outputs=headModel)\n",
        "\n",
        "# Freeze the layers in the base model so they are not trainable during training\n",
        "for layer in baseModel.layers:\n",
        "    layer.trainable = False\n",
        "\n",
        "# Compile the model\n",
        "model.compile(loss=\"categorical_crossentropy\", optimizer= Adam(learning_rate=0.0005),metrics=[\"accuracy\"])\n",
        "model.summary()"
      ]
    },
    {
      "cell_type": "code",
      "execution_count": null,
      "metadata": {
        "id": "mPTggD05xMpE"
      },
      "outputs": [],
      "source": [
        "# Split the data into training and testing sets\n",
        "train_data,test_data,train_target,test_target=train_test_split(data,target,test_size=0.2)"
      ]
    },
    {
      "cell_type": "code",
      "execution_count": null,
      "metadata": {
        "colab": {
          "base_uri": "https://localhost:8080/"
        },
        "id": "obQOVLR_xMpE",
        "outputId": "6b1b16fd-d234-4e95-9566-1bbf8adcc068"
      },
      "outputs": [
        {
          "name": "stdout",
          "output_type": "stream",
          "text": [
            "Epoch 1/100\n",
            "109/109 [==============================] - 17s 40ms/step - loss: 1.2414 - accuracy: 0.5231 - val_loss: 0.7668 - val_accuracy: 0.7097\n",
            "Epoch 2/100\n",
            "109/109 [==============================] - 2s 17ms/step - loss: 0.7368 - accuracy: 0.6998 - val_loss: 0.6085 - val_accuracy: 0.7558\n",
            "Epoch 3/100\n",
            "109/109 [==============================] - 2s 20ms/step - loss: 0.5352 - accuracy: 0.7887 - val_loss: 0.5046 - val_accuracy: 0.7742\n",
            "Epoch 4/100\n",
            "109/109 [==============================] - 2s 18ms/step - loss: 0.4507 - accuracy: 0.8164 - val_loss: 0.4496 - val_accuracy: 0.7880\n",
            "Epoch 5/100\n",
            "109/109 [==============================] - 2s 19ms/step - loss: 0.3472 - accuracy: 0.8695 - val_loss: 0.4804 - val_accuracy: 0.8065\n",
            "Epoch 6/100\n",
            "109/109 [==============================] - 2s 17ms/step - loss: 0.2980 - accuracy: 0.8938 - val_loss: 0.4675 - val_accuracy: 0.8065\n",
            "Epoch 7/100\n",
            "109/109 [==============================] - 2s 17ms/step - loss: 0.2700 - accuracy: 0.8915 - val_loss: 0.4085 - val_accuracy: 0.8295\n",
            "Epoch 8/100\n",
            "109/109 [==============================] - 2s 17ms/step - loss: 0.2500 - accuracy: 0.9145 - val_loss: 0.4990 - val_accuracy: 0.7972\n",
            "Epoch 9/100\n",
            "109/109 [==============================] - 2s 17ms/step - loss: 0.2076 - accuracy: 0.9249 - val_loss: 0.4476 - val_accuracy: 0.8157\n",
            "Epoch 10/100\n",
            "109/109 [==============================] - 2s 20ms/step - loss: 0.1886 - accuracy: 0.9342 - val_loss: 0.3951 - val_accuracy: 0.8433\n",
            "Epoch 11/100\n",
            "109/109 [==============================] - 2s 22ms/step - loss: 0.1763 - accuracy: 0.9342 - val_loss: 0.3823 - val_accuracy: 0.8249\n",
            "Epoch 12/100\n",
            "109/109 [==============================] - 3s 25ms/step - loss: 0.1336 - accuracy: 0.9619 - val_loss: 0.4507 - val_accuracy: 0.8203\n",
            "Epoch 13/100\n",
            "109/109 [==============================] - 3s 26ms/step - loss: 0.1208 - accuracy: 0.9538 - val_loss: 0.4232 - val_accuracy: 0.8111\n",
            "Epoch 14/100\n",
            "109/109 [==============================] - 2s 20ms/step - loss: 0.1091 - accuracy: 0.9642 - val_loss: 0.4123 - val_accuracy: 0.8249\n",
            "Epoch 15/100\n",
            "109/109 [==============================] - 2s 17ms/step - loss: 0.1040 - accuracy: 0.9677 - val_loss: 0.4744 - val_accuracy: 0.8387\n",
            "Epoch 16/100\n",
            "109/109 [==============================] - 2s 20ms/step - loss: 0.1032 - accuracy: 0.9677 - val_loss: 0.4250 - val_accuracy: 0.8341\n",
            "Epoch 17/100\n",
            "109/109 [==============================] - 2s 23ms/step - loss: 0.0800 - accuracy: 0.9792 - val_loss: 0.3906 - val_accuracy: 0.8341\n",
            "Epoch 18/100\n",
            "109/109 [==============================] - 2s 20ms/step - loss: 0.0834 - accuracy: 0.9758 - val_loss: 0.4564 - val_accuracy: 0.8387\n",
            "Epoch 19/100\n",
            "109/109 [==============================] - 2s 20ms/step - loss: 0.0768 - accuracy: 0.9815 - val_loss: 0.4157 - val_accuracy: 0.8387\n",
            "Epoch 20/100\n",
            "109/109 [==============================] - 2s 17ms/step - loss: 0.0710 - accuracy: 0.9781 - val_loss: 0.4564 - val_accuracy: 0.8341\n",
            "Epoch 21/100\n",
            "109/109 [==============================] - 2s 20ms/step - loss: 0.0540 - accuracy: 0.9838 - val_loss: 0.4188 - val_accuracy: 0.8341\n",
            "Epoch 22/100\n",
            "109/109 [==============================] - 2s 17ms/step - loss: 0.0639 - accuracy: 0.9815 - val_loss: 0.4870 - val_accuracy: 0.8111\n",
            "Epoch 23/100\n",
            "109/109 [==============================] - 2s 22ms/step - loss: 0.0506 - accuracy: 0.9885 - val_loss: 0.4842 - val_accuracy: 0.8387\n",
            "Epoch 24/100\n",
            "109/109 [==============================] - 2s 22ms/step - loss: 0.0553 - accuracy: 0.9838 - val_loss: 0.5194 - val_accuracy: 0.8249\n",
            "Epoch 25/100\n",
            "109/109 [==============================] - 2s 20ms/step - loss: 0.0528 - accuracy: 0.9838 - val_loss: 0.4201 - val_accuracy: 0.8479\n",
            "Epoch 26/100\n",
            "109/109 [==============================] - 2s 17ms/step - loss: 0.0406 - accuracy: 0.9908 - val_loss: 0.4072 - val_accuracy: 0.8618\n",
            "Epoch 27/100\n",
            "109/109 [==============================] - 2s 17ms/step - loss: 0.0444 - accuracy: 0.9873 - val_loss: 0.4828 - val_accuracy: 0.8387\n",
            "Epoch 28/100\n",
            "109/109 [==============================] - 2s 17ms/step - loss: 0.0540 - accuracy: 0.9838 - val_loss: 0.4566 - val_accuracy: 0.8479\n",
            "Epoch 29/100\n",
            "109/109 [==============================] - 2s 19ms/step - loss: 0.0434 - accuracy: 0.9908 - val_loss: 0.4363 - val_accuracy: 0.8618\n",
            "Epoch 30/100\n",
            "109/109 [==============================] - 2s 22ms/step - loss: 0.0448 - accuracy: 0.9850 - val_loss: 0.4079 - val_accuracy: 0.8525\n",
            "Epoch 31/100\n",
            "109/109 [==============================] - 2s 20ms/step - loss: 0.0337 - accuracy: 0.9919 - val_loss: 0.4746 - val_accuracy: 0.8479\n",
            "Epoch 32/100\n",
            "109/109 [==============================] - 2s 17ms/step - loss: 0.0273 - accuracy: 0.9954 - val_loss: 0.4676 - val_accuracy: 0.8433\n",
            "Epoch 33/100\n",
            "109/109 [==============================] - 2s 17ms/step - loss: 0.0476 - accuracy: 0.9850 - val_loss: 0.4852 - val_accuracy: 0.8341\n",
            "Epoch 34/100\n",
            "109/109 [==============================] - 2s 17ms/step - loss: 0.0313 - accuracy: 0.9908 - val_loss: 0.4532 - val_accuracy: 0.8479\n",
            "Epoch 35/100\n",
            "109/109 [==============================] - 2s 20ms/step - loss: 0.0334 - accuracy: 0.9931 - val_loss: 0.4421 - val_accuracy: 0.8618\n",
            "Epoch 36/100\n",
            "109/109 [==============================] - 2s 23ms/step - loss: 0.0409 - accuracy: 0.9861 - val_loss: 0.4067 - val_accuracy: 0.8756\n",
            "Epoch 37/100\n",
            "109/109 [==============================] - 2s 18ms/step - loss: 0.0466 - accuracy: 0.9885 - val_loss: 0.5285 - val_accuracy: 0.8433\n",
            "Epoch 38/100\n",
            "109/109 [==============================] - 2s 17ms/step - loss: 0.0342 - accuracy: 0.9873 - val_loss: 0.5693 - val_accuracy: 0.8525\n",
            "Epoch 39/100\n",
            "109/109 [==============================] - 2s 20ms/step - loss: 0.0343 - accuracy: 0.9908 - val_loss: 0.4814 - val_accuracy: 0.8525\n",
            "Epoch 40/100\n",
            "109/109 [==============================] - 2s 20ms/step - loss: 0.0348 - accuracy: 0.9885 - val_loss: 0.4724 - val_accuracy: 0.8479\n",
            "Epoch 41/100\n",
            "109/109 [==============================] - 2s 20ms/step - loss: 0.0385 - accuracy: 0.9873 - val_loss: 0.5075 - val_accuracy: 0.8525\n",
            "Epoch 42/100\n",
            "109/109 [==============================] - 2s 19ms/step - loss: 0.0311 - accuracy: 0.9885 - val_loss: 0.5415 - val_accuracy: 0.8295\n",
            "Epoch 43/100\n",
            "109/109 [==============================] - 2s 22ms/step - loss: 0.0299 - accuracy: 0.9919 - val_loss: 0.5434 - val_accuracy: 0.8479\n",
            "Epoch 44/100\n",
            "109/109 [==============================] - 2s 17ms/step - loss: 0.0249 - accuracy: 0.9954 - val_loss: 0.4565 - val_accuracy: 0.8802\n",
            "Epoch 45/100\n",
            "109/109 [==============================] - 2s 17ms/step - loss: 0.0167 - accuracy: 0.9954 - val_loss: 0.4990 - val_accuracy: 0.8479\n",
            "Epoch 46/100\n",
            "109/109 [==============================] - 2s 17ms/step - loss: 0.0117 - accuracy: 0.9977 - val_loss: 0.5223 - val_accuracy: 0.8479\n",
            "Epoch 47/100\n",
            "109/109 [==============================] - 2s 17ms/step - loss: 0.0187 - accuracy: 0.9965 - val_loss: 0.4817 - val_accuracy: 0.8618\n",
            "Epoch 48/100\n",
            "109/109 [==============================] - 2s 17ms/step - loss: 0.0432 - accuracy: 0.9827 - val_loss: 0.5644 - val_accuracy: 0.8433\n",
            "Epoch 49/100\n",
            "109/109 [==============================] - 3s 25ms/step - loss: 0.0480 - accuracy: 0.9827 - val_loss: 0.4867 - val_accuracy: 0.8479\n",
            "Epoch 50/100\n",
            "109/109 [==============================] - 2s 19ms/step - loss: 0.0208 - accuracy: 0.9942 - val_loss: 0.5445 - val_accuracy: 0.8387\n",
            "Epoch 51/100\n",
            "109/109 [==============================] - 2s 20ms/step - loss: 0.0301 - accuracy: 0.9896 - val_loss: 0.5825 - val_accuracy: 0.8065\n",
            "Epoch 52/100\n",
            "109/109 [==============================] - 2s 17ms/step - loss: 0.0480 - accuracy: 0.9827 - val_loss: 0.6734 - val_accuracy: 0.8018\n",
            "Epoch 53/100\n",
            "109/109 [==============================] - 2s 17ms/step - loss: 0.0314 - accuracy: 0.9885 - val_loss: 0.4696 - val_accuracy: 0.8618\n",
            "Epoch 54/100\n",
            "109/109 [==============================] - 2s 17ms/step - loss: 0.0189 - accuracy: 0.9965 - val_loss: 0.5950 - val_accuracy: 0.8479\n",
            "Epoch 55/100\n",
            "109/109 [==============================] - 2s 17ms/step - loss: 0.0192 - accuracy: 0.9931 - val_loss: 0.5000 - val_accuracy: 0.8756\n",
            "Epoch 56/100\n",
            "109/109 [==============================] - 2s 22ms/step - loss: 0.0188 - accuracy: 0.9931 - val_loss: 0.5275 - val_accuracy: 0.8664\n",
            "Epoch 57/100\n",
            "109/109 [==============================] - 2s 21ms/step - loss: 0.0191 - accuracy: 0.9954 - val_loss: 0.9246 - val_accuracy: 0.8157\n",
            "Epoch 58/100\n",
            "109/109 [==============================] - 2s 17ms/step - loss: 0.0390 - accuracy: 0.9804 - val_loss: 0.5590 - val_accuracy: 0.8525\n",
            "Epoch 59/100\n",
            "109/109 [==============================] - 2s 20ms/step - loss: 0.0290 - accuracy: 0.9919 - val_loss: 0.5317 - val_accuracy: 0.8571\n",
            "Epoch 60/100\n",
            "109/109 [==============================] - 2s 20ms/step - loss: 0.0265 - accuracy: 0.9931 - val_loss: 0.5961 - val_accuracy: 0.8433\n",
            "Epoch 61/100\n",
            "109/109 [==============================] - 2s 17ms/step - loss: 0.0168 - accuracy: 0.9942 - val_loss: 0.5339 - val_accuracy: 0.8295\n",
            "Epoch 62/100\n",
            "109/109 [==============================] - 2s 21ms/step - loss: 0.0126 - accuracy: 0.9965 - val_loss: 0.6857 - val_accuracy: 0.8203\n",
            "Epoch 63/100\n",
            "109/109 [==============================] - 2s 22ms/step - loss: 0.0266 - accuracy: 0.9931 - val_loss: 0.6248 - val_accuracy: 0.8387\n",
            "Epoch 64/100\n",
            "109/109 [==============================] - 2s 17ms/step - loss: 0.0234 - accuracy: 0.9931 - val_loss: 0.6349 - val_accuracy: 0.8571\n",
            "Epoch 65/100\n",
            "109/109 [==============================] - 2s 20ms/step - loss: 0.0097 - accuracy: 0.9988 - val_loss: 0.5759 - val_accuracy: 0.8618\n",
            "Epoch 66/100\n",
            "109/109 [==============================] - 2s 20ms/step - loss: 0.0085 - accuracy: 0.9977 - val_loss: 0.5782 - val_accuracy: 0.8479\n",
            "Epoch 67/100\n",
            "109/109 [==============================] - 2s 17ms/step - loss: 0.0103 - accuracy: 0.9965 - val_loss: 0.6427 - val_accuracy: 0.8618\n",
            "Epoch 68/100\n",
            "109/109 [==============================] - 2s 21ms/step - loss: 0.0118 - accuracy: 0.9965 - val_loss: 0.6164 - val_accuracy: 0.8571\n",
            "Epoch 69/100\n",
            "109/109 [==============================] - 2s 22ms/step - loss: 0.0123 - accuracy: 0.9954 - val_loss: 0.6041 - val_accuracy: 0.8479\n",
            "Epoch 70/100\n",
            "109/109 [==============================] - 2s 20ms/step - loss: 0.0332 - accuracy: 0.9908 - val_loss: 0.6982 - val_accuracy: 0.8387\n",
            "Epoch 71/100\n",
            "109/109 [==============================] - 2s 17ms/step - loss: 0.0259 - accuracy: 0.9885 - val_loss: 0.6448 - val_accuracy: 0.8479\n",
            "Epoch 72/100\n",
            "109/109 [==============================] - 2s 17ms/step - loss: 0.0172 - accuracy: 0.9965 - val_loss: 0.6870 - val_accuracy: 0.8203\n",
            "Epoch 73/100\n",
            "109/109 [==============================] - 2s 20ms/step - loss: 0.0381 - accuracy: 0.9861 - val_loss: 0.6042 - val_accuracy: 0.8341\n",
            "Epoch 74/100\n",
            "109/109 [==============================] - 2s 20ms/step - loss: 0.0151 - accuracy: 0.9942 - val_loss: 0.6878 - val_accuracy: 0.8479\n",
            "Epoch 75/100\n",
            "109/109 [==============================] - 2s 20ms/step - loss: 0.0350 - accuracy: 0.9896 - val_loss: 0.6617 - val_accuracy: 0.8249\n",
            "Epoch 76/100\n",
            "109/109 [==============================] - 2s 18ms/step - loss: 0.0115 - accuracy: 0.9977 - val_loss: 0.6130 - val_accuracy: 0.8479\n",
            "Epoch 77/100\n",
            "109/109 [==============================] - 2s 17ms/step - loss: 0.0140 - accuracy: 0.9965 - val_loss: 0.7049 - val_accuracy: 0.8433\n",
            "Epoch 78/100\n",
            "109/109 [==============================] - 2s 17ms/step - loss: 0.0096 - accuracy: 0.9977 - val_loss: 0.6626 - val_accuracy: 0.8479\n",
            "Epoch 79/100\n",
            "109/109 [==============================] - 2s 17ms/step - loss: 0.0116 - accuracy: 0.9977 - val_loss: 0.6842 - val_accuracy: 0.8525\n",
            "Epoch 80/100\n",
            "109/109 [==============================] - 2s 17ms/step - loss: 0.0110 - accuracy: 0.9965 - val_loss: 0.8239 - val_accuracy: 0.8341\n",
            "Epoch 81/100\n",
            "109/109 [==============================] - 2s 21ms/step - loss: 0.0548 - accuracy: 0.9838 - val_loss: 0.5927 - val_accuracy: 0.8571\n",
            "Epoch 82/100\n",
            "109/109 [==============================] - 2s 22ms/step - loss: 0.0330 - accuracy: 0.9885 - val_loss: 0.6256 - val_accuracy: 0.8618\n",
            "Epoch 83/100\n",
            "109/109 [==============================] - 2s 20ms/step - loss: 0.0089 - accuracy: 0.9965 - val_loss: 0.7036 - val_accuracy: 0.8433\n",
            "Epoch 84/100\n",
            "109/109 [==============================] - 2s 17ms/step - loss: 0.0189 - accuracy: 0.9931 - val_loss: 0.7446 - val_accuracy: 0.8433\n",
            "Epoch 85/100\n",
            "109/109 [==============================] - 2s 17ms/step - loss: 0.0308 - accuracy: 0.9885 - val_loss: 0.8748 - val_accuracy: 0.8295\n",
            "Epoch 86/100\n",
            "109/109 [==============================] - 2s 20ms/step - loss: 0.0333 - accuracy: 0.9861 - val_loss: 0.8452 - val_accuracy: 0.8341\n",
            "Epoch 87/100\n",
            "109/109 [==============================] - 2s 20ms/step - loss: 0.0254 - accuracy: 0.9908 - val_loss: 0.7270 - val_accuracy: 0.8433\n",
            "Epoch 88/100\n",
            "109/109 [==============================] - 2s 22ms/step - loss: 0.0282 - accuracy: 0.9908 - val_loss: 0.5646 - val_accuracy: 0.8433\n",
            "Epoch 89/100\n",
            "109/109 [==============================] - 2s 18ms/step - loss: 0.0208 - accuracy: 0.9954 - val_loss: 0.6592 - val_accuracy: 0.8618\n",
            "Epoch 90/100\n",
            "109/109 [==============================] - 2s 17ms/step - loss: 0.0105 - accuracy: 0.9977 - val_loss: 0.7069 - val_accuracy: 0.8433\n",
            "Epoch 91/100\n",
            "109/109 [==============================] - 2s 17ms/step - loss: 0.0081 - accuracy: 0.9977 - val_loss: 0.6503 - val_accuracy: 0.8479\n",
            "Epoch 92/100\n",
            "109/109 [==============================] - 2s 20ms/step - loss: 0.0123 - accuracy: 0.9954 - val_loss: 0.7255 - val_accuracy: 0.8387\n",
            "Epoch 93/100\n",
            "109/109 [==============================] - 2s 20ms/step - loss: 0.0066 - accuracy: 0.9988 - val_loss: 0.6001 - val_accuracy: 0.8618\n",
            "Epoch 94/100\n",
            "109/109 [==============================] - 2s 19ms/step - loss: 0.0079 - accuracy: 0.9965 - val_loss: 0.6412 - val_accuracy: 0.8249\n",
            "Epoch 95/100\n",
            "109/109 [==============================] - 2s 21ms/step - loss: 0.0190 - accuracy: 0.9919 - val_loss: 0.5917 - val_accuracy: 0.8664\n",
            "Epoch 96/100\n",
            "109/109 [==============================] - 2s 17ms/step - loss: 0.0079 - accuracy: 0.9977 - val_loss: 0.8768 - val_accuracy: 0.8341\n",
            "Epoch 97/100\n",
            "109/109 [==============================] - 2s 20ms/step - loss: 0.0063 - accuracy: 0.9977 - val_loss: 0.6923 - val_accuracy: 0.8479\n",
            "Epoch 98/100\n",
            "109/109 [==============================] - 2s 17ms/step - loss: 0.0044 - accuracy: 1.0000 - val_loss: 0.6652 - val_accuracy: 0.8479\n",
            "Epoch 99/100\n",
            "109/109 [==============================] - 2s 17ms/step - loss: 0.0047 - accuracy: 0.9988 - val_loss: 0.6422 - val_accuracy: 0.8664\n",
            "Epoch 100/100\n",
            "109/109 [==============================] - 2s 20ms/step - loss: 0.0025 - accuracy: 1.0000 - val_loss: 0.7666 - val_accuracy: 0.8479\n"
          ]
        }
      ],
      "source": [
        "# Set up a callback to save the model weights during training\n",
        "checkpoint = ModelCheckpoint('modelso/model-{epoch:03d}.model',monitor='val_loss',save_best_only=True,mode='auto')\n",
        "# Train the model\n",
        "history = model.fit(train_data, train_target, validation_data=(test_data, test_target),epochs=100, batch_size=8)"
      ]
    },
    {
      "cell_type": "code",
      "execution_count": null,
      "metadata": {
        "colab": {
          "base_uri": "https://localhost:8080/",
          "height": 466
        },
        "id": "P0Wy3W7rxMpF",
        "outputId": "34c2055b-6876-4a7a-d9b2-247e73eb841d"
      },
      "outputs": [
        {
          "data": {
            "text/plain": [
              "Text(0, 0.5, 'loss')"
            ]
          },
          "execution_count": 10,
          "metadata": {},
          "output_type": "execute_result"
        },
        {
          "data": {
            "image/png": "[encoded data removed]",
            "text/plain": [
              "<Figure size 640x480 with 1 Axes>"
            ]
          },
          "metadata": {},
          "output_type": "display_data"
        }
      ],
      "source": [
        "# Plot the training and validation loss\n",
        "plt.plot(history.history['loss'],'b',label='loss')\n",
        "plt.plot(history.history['val_loss'],'r',label='val loss')\n",
        "plt.legend()\n",
        "plt.xlabel('epoch #')\n",
        "plt.ylabel('loss')"
      ]
    },
    {
      "cell_type": "code",
      "execution_count": null,
      "metadata": {
        "colab": {
          "base_uri": "https://localhost:8080/",
          "height": 466
        },
        "id": "RmtgwD_WxMpF",
        "outputId": "4e2211dd-9020-4dfe-bcd2-870b50a987b2"
      },
      "outputs": [
        {
          "data": {
            "text/plain": [
              "Text(0, 0.5, 'accuracy')"
            ]
          },
          "execution_count": 11,
          "metadata": {},
          "output_type": "execute_result"
        },
        {
          "data": {
            "image/png": "[encoded data removed]",
            "text/plain": [
              "<Figure size 640x480 with 1 Axes>"
            ]
          },
          "metadata": {},
          "output_type": "display_data"
        }
      ],
      "source": [
        "# Plot the training and validation accuracy\n",
        "plt.plot(history.history['accuracy'],'b',label='accuracy')\n",
        "plt.plot(history.history['val_accuracy'],'r',label='val accuracy')\n",
        "plt.legend()\n",
        "plt.xlabel('epoch #')\n",
        "plt.ylabel('accuracy')"
      ]
    },
    {
      "cell_type": "code",
      "execution_count": null,
      "metadata": {
        "colab": {
          "base_uri": "https://localhost:8080/"
        },
        "id": "cG0_CBH_xMpG",
        "outputId": "178514a3-ce9f-41a2-a751-e1a13c186a10"
      },
      "outputs": [
        {
          "name": "stdout",
          "output_type": "stream",
          "text": [
            "7/7 [==============================] - 2s 129ms/step - loss: 0.7666 - accuracy: 0.8479\n",
            "[0.7665562033653259, 0.8479262590408325]\n"
          ]
        }
      ],
      "source": [
        "# Evaluate the model on the test data\n",
        "print(model.evaluate(test_data,test_target))"
      ]
    },
    {
      "cell_type": "code",
      "execution_count": null,
      "metadata": {
        "colab": {
          "base_uri": "https://localhost:8080/"
        },
        "id": "2bj8paE3xMpG",
        "outputId": "bc46f300-a509-45bd-dfd7-b9c317eabcb5"
      },
      "outputs": [
        {
          "name": "stderr",
          "output_type": "stream",
          "text": [
            "WARNING:absl:Found untraced functions such as _jit_compiled_convolution_op, _jit_compiled_convolution_op, _jit_compiled_convolution_op, _jit_compiled_convolution_op, _jit_compiled_convolution_op while saving (showing 5 of 52). These functions will not be directly callable after loading.\n"
          ]
        }
      ],
      "source": [
        "# Save the trained model\n",
        "model.save('MobileNetV2.model')"
      ]
    },
    {
      "cell_type": "code",
      "execution_count": null,
      "metadata": {
        "colab": {
          "base_uri": "https://localhost:8080/"
        },
        "id": "B_fA-Xd57AUy",
        "outputId": "29c64d4a-e067-4ca3-867a-e9a49cd18946"
      },
      "outputs": [
        {
          "name": "stdout",
          "output_type": "stream",
          "text": [
            "7/7 [==============================] - 1s 46ms/step\n"
          ]
        }
      ],
      "source": [
        "predicted_target=model.predict(test_data)"
      ]
    },
    {
      "cell_type": "code",
      "execution_count": null,
      "metadata": {
        "colab": {
          "base_uri": "https://localhost:8080/"
        },
        "id": "4yCwixuW7HOD",
        "outputId": "a8b5f309-e5e5-4d46-dbee-c2836fa8b2c1"
      },
      "outputs": [
        {
          "name": "stdout",
          "output_type": "stream",
          "text": [
            "                  precision    recall  f1-score   support\n",
            "\n",
            "     Black Mould       0.86      0.74      0.79        42\n",
            "          Cobweb       0.79      0.79      0.79        19\n",
            "            Mite       0.97      0.86      0.91        42\n",
            "      Green Mold       0.69      0.89      0.78        45\n",
            "Bacterial blotch       0.91      0.59      0.71        17\n",
            "         Healthy       0.93      1.00      0.96        52\n",
            "\n",
            "        accuracy                           0.85       217\n",
            "       macro avg       0.86      0.81      0.82       217\n",
            "    weighted avg       0.86      0.85      0.85       217\n",
            "\n"
          ]
        }
      ],
      "source": [
        "from sklearn.metrics import classification_report\n",
        "\n",
        "print(classification_report(np.argmax(test_target,axis=1),np.argmax(predicted_target,axis=1),target_names=['Black Mould', 'Cobweb', 'Mite', 'Green Mold', 'Bacterial blotch','Healthy']))"
      ]
    },
    {
      "cell_type": "code",
      "execution_count": null,
      "metadata": {
        "colab": {
          "base_uri": "https://localhost:8080/"
        },
        "id": "-H0n20io7W1K",
        "outputId": "f884a8b8-813d-49e5-e5a3-cf969f785fa4"
      },
      "outputs": [
        {
          "name": "stdout",
          "output_type": "stream",
          "text": [
            "[[31  0  1 10  0  0]\n",
            " [ 0 15  0  2  1  1]\n",
            " [ 1  0 36  5  0  0]\n",
            " [ 4  1  0 40  0  0]\n",
            " [ 0  3  0  1 10  3]\n",
            " [ 0  0  0  0  0 52]]\n"
          ]
        }
      ],
      "source": [
        "from sklearn.metrics import confusion_matrix,ConfusionMatrixDisplay\n",
        "\n",
        "matrix=confusion_matrix(np.argmax(test_target,axis=1),np.argmax(predicted_target,axis=1))\n",
        "print(matrix)"
      ]
    },
    {
      "cell_type": "code",
      "execution_count": null,
      "metadata": {
        "colab": {
          "base_uri": "https://localhost:8080/",
          "height": 466
        },
        "id": "hlcgB3f77dHb",
        "outputId": "d77a0d64-ec84-49ca-8119-ea39c525f359"
      },
      "outputs": [
        {
          "data": {
            "text/plain": [
              "<sklearn.metrics._plot.confusion_matrix.ConfusionMatrixDisplay at 0x7b24183f5e10>"
            ]
          },
          "execution_count": 17,
          "metadata": {},
          "output_type": "execute_result"
        },
        {
          "data": {
            "image/png": "[encoded data removed]",
            "text/plain": [
              "<Figure size 640x480 with 2 Axes>"
            ]
          },
          "metadata": {},
          "output_type": "display_data"
        }
      ],
      "source": [
        "disp = ConfusionMatrixDisplay(confusion_matrix=matrix, display_labels=['Black Mould', 'Cobweb', 'Mite', 'Green Mold', 'Bacterial blotch', 'Healthy'])\n",
        "disp.plot()"
      ]
    }
  ],
  "metadata": {
    "accelerator": "GPU",
    "colab": {
      "provenance": []
    },
    "kernelspec": {
      "display_name": "Python 3",
      "name": "python3"
    },
    "language_info": {
      "codemirror_mode": {
        "name": "ipython",
        "version": 3
      },
      "file_extension": ".py",
      "mimetype": "text/x-python",
      "name": "python",
      "nbconvert_exporter": "python",
      "pygments_lexer": "ipython3",
      "version": "3.9.12"
    }
  },
  "nbformat": 4,
  "nbformat_minor": 0
}
