{
  "cells": [
    {
      "cell_type": "code",
      "execution_count": 2,
      "id": "37a662cd",
      "metadata": {
        "id": "37a662cd"
      },
      "outputs": [],
      "source": [
        "#import libraries\n",
        "import cv2\n",
        "import numpy as np\n",
        "from tensorflow.keras.models import load_model"
      ]
    },
    {
      "cell_type": "code",
      "execution_count": 6,
      "id": "b5b4367b",
      "metadata": {
        "id": "b5b4367b"
      },
      "outputs": [],
      "source": [
        "#load model\n",
        "model = load_model('D:/dis_cmp/2023-027/Disease/backend/DenseNet121.h5')"
      ]
    },
    {
      "cell_type": "code",
      "execution_count": 14,
      "id": "69dca414",
      "metadata": {
        "id": "69dca414"
      },
      "outputs": [],
      "source": [
        "# Load and preprocess the new image(s)\n",
        "image_path = 'D:/dis_cmp/2023-027/Disease/backend/testData/mite.jpg'  # Replace with the path to your new image\n",
        "image = cv2.imread(image_path)\n",
        "image = cv2.resize(image, (224, 224))  # Resize the image to match the input size of the model\n",
        "image = image.astype(np.float32) / 255.0  # Normalize the image"
      ]
    },
    {
      "cell_type": "code",
      "execution_count": 15,
      "id": "0876edb0",
      "metadata": {
        "colab": {
          "base_uri": "https://localhost:8080/"
        },
        "id": "0876edb0",
        "outputId": "8c49e5a1-04ea-42d2-bca9-345ce615b4c4"
      },
      "outputs": [
        {
          "name": "stdout",
          "output_type": "stream",
          "text": [
            "1/1 [==============================] - 0s 95ms/step\n"
          ]
        }
      ],
      "source": [
        "#get prediction\n",
        "predictions = model.predict(np.expand_dims(image, axis=0))\n",
        "class_index = np.argmax(predictions)\n",
        "class_name = ['Black Mould', 'Cobweb', 'Mite', 'Green Mold', 'Bacterial blotch', 'Healthy'][class_index]"
      ]
    },
    {
      "cell_type": "code",
      "execution_count": 16,
      "id": "56966313",
      "metadata": {
        "colab": {
          "base_uri": "https://localhost:8080/"
        },
        "id": "56966313",
        "outputId": "92d7edbb-abc8-48d9-c1ce-a6e65dec39c9"
      },
      "outputs": [
        {
          "name": "stdout",
          "output_type": "stream",
          "text": [
            "Predicted class: Mite\n"
          ]
        }
      ],
      "source": [
        "#print prediction\n",
        "print(f\"Predicted class: {class_name}\")"
      ]
    },
    {
      "cell_type": "code",
      "execution_count": null,
      "id": "2fQ8lVq1tJfP",
      "metadata": {
        "colab": {
          "base_uri": "https://localhost:8080/"
        },
        "id": "2fQ8lVq1tJfP",
        "outputId": "baff4d6e-9bf3-4a81-f519-ce4eed6715f0"
      },
      "outputs": [
        {
          "name": "stdout",
          "output_type": "stream",
          "text": [
            "Drive already mounted at /content/drive; to attempt to forcibly remount, call drive.mount(\"/content/drive\", force_remount=True).\n"
          ]
        }
      ],
      "source": [
        "from google.colab import drive\n",
        "drive.mount('/content/drive')"
      ]
    }
  ],
  "metadata": {
    "colab": {
      "provenance": []
    },
    "kernelspec": {
      "display_name": "Python 3 (ipykernel)",
      "language": "python",
      "name": "python3"
    },
    "language_info": {
      "codemirror_mode": {
        "name": "ipython",
        "version": 3
      },
      "file_extension": ".py",
      "mimetype": "text/x-python",
      "name": "python",
      "nbconvert_exporter": "python",
      "pygments_lexer": "ipython3",
      "version": "3.9.13"
    }
  },
  "nbformat": 4,
  "nbformat_minor": 5
}
